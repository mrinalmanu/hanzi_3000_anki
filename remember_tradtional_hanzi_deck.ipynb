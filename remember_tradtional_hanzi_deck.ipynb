{
 "cells": [
  {
   "cell_type": "markdown",
   "metadata": {},
   "source": [
    "!pip3 install cjklib3"
   ]
  },
  {
   "cell_type": "code",
   "execution_count": 9,
   "metadata": {},
   "outputs": [],
   "source": [
    "import pandas as pd\n",
    "from cjklib import characterlookup\n",
    "import regex as re"
   ]
  },
  {
   "cell_type": "code",
   "execution_count": 10,
   "metadata": {},
   "outputs": [],
   "source": [
    "df = pd.read_csv(\"/home/mrinalmanu/Downloads/LANGUAGES/Chinese/texts/mp3-chinese-pinyin-sound-master/notes.csv\", sep=\"\\t\")"
   ]
  },
  {
   "cell_type": "code",
   "execution_count": 11,
   "metadata": {
    "scrolled": true
   },
   "outputs": [
    {
     "data": {
      "text/html": [
       "<div>\n",
       "<style scoped>\n",
       "    .dataframe tbody tr th:only-of-type {\n",
       "        vertical-align: middle;\n",
       "    }\n",
       "\n",
       "    .dataframe tbody tr th {\n",
       "        vertical-align: top;\n",
       "    }\n",
       "\n",
       "    .dataframe thead th {\n",
       "        text-align: right;\n",
       "    }\n",
       "</style>\n",
       "<table border=\"1\" class=\"dataframe\">\n",
       "  <thead>\n",
       "    <tr style=\"text-align: right;\">\n",
       "      <th></th>\n",
       "      <th>Traditional</th>\n",
       "      <th>Study Order</th>\n",
       "      <th>Variants</th>\n",
       "      <th>Simplified</th>\n",
       "      <th>Pinyin</th>\n",
       "      <th>Keyword</th>\n",
       "      <th>Meaning</th>\n",
       "      <th>Examples</th>\n",
       "      <th>Examples Pinyin</th>\n",
       "      <th>Sound</th>\n",
       "      <th>Frequency</th>\n",
       "      <th>Zhuyin</th>\n",
       "      <th>Vocabulary Zhuyin</th>\n",
       "    </tr>\n",
       "  </thead>\n",
       "  <tbody>\n",
       "    <tr>\n",
       "      <th>0</th>\n",
       "      <td>一</td>\n",
       "      <td>1</td>\n",
       "      <td>NaN</td>\n",
       "      <td>NaN</td>\n",
       "      <td>yī</td>\n",
       "      <td>one</td>\n",
       "      <td>one; a, an; alone</td>\n",
       "      <td>一點 一點兒 一些</td>\n",
       "      <td>yīdiǎn yīdiǎnr yīxiē</td>\n",
       "      <td>[sound:agj-pinyin-yi1.mp3]</td>\n",
       "      <td>5</td>\n",
       "      <td>ㄧ</td>\n",
       "      <td>ㄧ ㄉㄧㄢˇ  ㄧ ㄉㄧㄢˇㄦ˙  ㄧ ㄒㄧㄝ</td>\n",
       "    </tr>\n",
       "    <tr>\n",
       "      <th>1</th>\n",
       "      <td>勺</td>\n",
       "      <td>2</td>\n",
       "      <td>NaN</td>\n",
       "      <td>NaN</td>\n",
       "      <td>sháo</td>\n",
       "      <td>ladle</td>\n",
       "      <td>spoon, ladle; unit of volume</td>\n",
       "      <td>NaN</td>\n",
       "      <td>NaN</td>\n",
       "      <td>[sound:agj-pinyin-shao2.mp3]</td>\n",
       "      <td>4643</td>\n",
       "      <td>ㄕㄠˊ</td>\n",
       "      <td>NaN</td>\n",
       "    </tr>\n",
       "    <tr>\n",
       "      <th>2</th>\n",
       "      <td>口</td>\n",
       "      <td>3</td>\n",
       "      <td>NaN</td>\n",
       "      <td>NaN</td>\n",
       "      <td>kǒu</td>\n",
       "      <td>mouth</td>\n",
       "      <td>mouth; open end; entrance, gate</td>\n",
       "      <td>十字路口 門口 路口</td>\n",
       "      <td>shízìlùkǒu ménkǒu lùkǒu</td>\n",
       "      <td>[sound:agj-pinyin-kou3.mp3]</td>\n",
       "      <td>404</td>\n",
       "      <td>ㄎㄡˇ</td>\n",
       "      <td>ㄕˊㄗ`ㄌㄨ`ㄎㄡˇ  ㄇㄣˊㄎㄡˇ  ㄌㄨ`ㄎㄡˇ</td>\n",
       "    </tr>\n",
       "    <tr>\n",
       "      <th>3</th>\n",
       "      <td>日</td>\n",
       "      <td>4</td>\n",
       "      <td>NaN</td>\n",
       "      <td>NaN</td>\n",
       "      <td>rì</td>\n",
       "      <td>day</td>\n",
       "      <td>sun; day; daytime</td>\n",
       "      <td>日本 生日 星期日</td>\n",
       "      <td>Rìběn shēngrì Xīngqīrì</td>\n",
       "      <td>[sound:agj-pinyin-ri4.mp3]</td>\n",
       "      <td>124</td>\n",
       "      <td>ㄖ`</td>\n",
       "      <td>ㄖ`ㄅㄣˇ  ㄕㄥ ㄖ`  ㄒㄧㄥ ㄑㄧ ㄖ`</td>\n",
       "    </tr>\n",
       "    <tr>\n",
       "      <th>4</th>\n",
       "      <td>白</td>\n",
       "      <td>5</td>\n",
       "      <td>NaN</td>\n",
       "      <td>NaN</td>\n",
       "      <td>bái</td>\n",
       "      <td>white</td>\n",
       "      <td>white; pure, unblemished; bright</td>\n",
       "      <td>白色 白白 白菜</td>\n",
       "      <td>báisè báibái báicài</td>\n",
       "      <td>[sound:agj-pinyin-bai2.mp3]</td>\n",
       "      <td>358</td>\n",
       "      <td>ㄅㄞˊ</td>\n",
       "      <td>ㄅㄞˊㄙㄜ`  ㄅㄞˊㄅㄞˊ  ㄅㄞˊㄘㄞ`</td>\n",
       "    </tr>\n",
       "    <tr>\n",
       "      <th>...</th>\n",
       "      <td>...</td>\n",
       "      <td>...</td>\n",
       "      <td>...</td>\n",
       "      <td>...</td>\n",
       "      <td>...</td>\n",
       "      <td>...</td>\n",
       "      <td>...</td>\n",
       "      <td>...</td>\n",
       "      <td>...</td>\n",
       "      <td>...</td>\n",
       "      <td>...</td>\n",
       "      <td>...</td>\n",
       "      <td>...</td>\n",
       "    </tr>\n",
       "    <tr>\n",
       "      <th>3178</th>\n",
       "      <td>雹</td>\n",
       "      <td>3179</td>\n",
       "      <td>NaN</td>\n",
       "      <td>NaN</td>\n",
       "      <td>báo</td>\n",
       "      <td>hail</td>\n",
       "      <td>hail</td>\n",
       "      <td>NaN</td>\n",
       "      <td>NaN</td>\n",
       "      <td>[sound:agj-pinyin-bao2.mp3]</td>\n",
       "      <td>4895</td>\n",
       "      <td>ㄅㄠˊ</td>\n",
       "      <td>NaN</td>\n",
       "    </tr>\n",
       "    <tr>\n",
       "      <th>3179</th>\n",
       "      <td>糠</td>\n",
       "      <td>3180</td>\n",
       "      <td>NaN</td>\n",
       "      <td>NaN</td>\n",
       "      <td>kāng</td>\n",
       "      <td>chaff</td>\n",
       "      <td>chaff, bran, husks; poor</td>\n",
       "      <td>NaN</td>\n",
       "      <td>NaN</td>\n",
       "      <td>[sound:agj-pinyin-kang1.mp3]</td>\n",
       "      <td>4916</td>\n",
       "      <td>ㄎㄤ</td>\n",
       "      <td>NaN</td>\n",
       "    </tr>\n",
       "    <tr>\n",
       "      <th>3180</th>\n",
       "      <td>侄</td>\n",
       "      <td>3181</td>\n",
       "      <td>NaN</td>\n",
       "      <td>NaN</td>\n",
       "      <td>zhí</td>\n",
       "      <td>nephew</td>\n",
       "      <td>nephew</td>\n",
       "      <td>NaN</td>\n",
       "      <td>NaN</td>\n",
       "      <td>[sound:agj-pinyin-zhi2.mp3]</td>\n",
       "      <td>5117</td>\n",
       "      <td>ㄓˊ</td>\n",
       "      <td>NaN</td>\n",
       "    </tr>\n",
       "    <tr>\n",
       "      <th>3181</th>\n",
       "      <td>騾</td>\n",
       "      <td>3182</td>\n",
       "      <td>NaN</td>\n",
       "      <td>骡</td>\n",
       "      <td>luó</td>\n",
       "      <td>mule</td>\n",
       "      <td>mule</td>\n",
       "      <td>NaN</td>\n",
       "      <td>NaN</td>\n",
       "      <td>[sound:agj-pinyin-luo2.mp3]</td>\n",
       "      <td>5168</td>\n",
       "      <td>ㄌㄨㄛˊ</td>\n",
       "      <td>NaN</td>\n",
       "    </tr>\n",
       "    <tr>\n",
       "      <th>3182</th>\n",
       "      <td>鍬</td>\n",
       "      <td>3183</td>\n",
       "      <td>NaN</td>\n",
       "      <td>锹</td>\n",
       "      <td>qiāo</td>\n",
       "      <td>shovel</td>\n",
       "      <td>shovel</td>\n",
       "      <td>NaN</td>\n",
       "      <td>NaN</td>\n",
       "      <td>[sound:agj-pinyin-qiao1.mp3]</td>\n",
       "      <td>5446</td>\n",
       "      <td>ㄑㄧㄠ</td>\n",
       "      <td>NaN</td>\n",
       "    </tr>\n",
       "  </tbody>\n",
       "</table>\n",
       "<p>3183 rows × 13 columns</p>\n",
       "</div>"
      ],
      "text/plain": [
       "     Traditional  Study Order Variants Simplified Pinyin Keyword  \\\n",
       "0              一            1      NaN        NaN     yī     one   \n",
       "1              勺            2      NaN        NaN   sháo   ladle   \n",
       "2              口            3      NaN        NaN    kǒu   mouth   \n",
       "3              日            4      NaN        NaN     rì     day   \n",
       "4              白            5      NaN        NaN    bái   white   \n",
       "...          ...          ...      ...        ...    ...     ...   \n",
       "3178           雹         3179      NaN        NaN    báo    hail   \n",
       "3179           糠         3180      NaN        NaN   kāng   chaff   \n",
       "3180           侄         3181      NaN        NaN    zhí  nephew   \n",
       "3181           騾         3182      NaN          骡    luó    mule   \n",
       "3182           鍬         3183      NaN          锹   qiāo  shovel   \n",
       "\n",
       "                               Meaning    Examples          Examples Pinyin  \\\n",
       "0                    one; a, an; alone   一點 一點兒 一些     yīdiǎn yīdiǎnr yīxiē   \n",
       "1         spoon, ladle; unit of volume         NaN                      NaN   \n",
       "2      mouth; open end; entrance, gate  十字路口 門口 路口  shízìlùkǒu ménkǒu lùkǒu   \n",
       "3                    sun; day; daytime   日本 生日 星期日   Rìběn shēngrì Xīngqīrì   \n",
       "4     white; pure, unblemished; bright    白色 白白 白菜      báisè báibái báicài   \n",
       "...                                ...         ...                      ...   \n",
       "3178                              hail         NaN                      NaN   \n",
       "3179          chaff, bran, husks; poor         NaN                      NaN   \n",
       "3180                            nephew         NaN                      NaN   \n",
       "3181                              mule         NaN                      NaN   \n",
       "3182                            shovel         NaN                      NaN   \n",
       "\n",
       "                             Sound  Frequency Zhuyin  \\\n",
       "0       [sound:agj-pinyin-yi1.mp3]          5      ㄧ   \n",
       "1     [sound:agj-pinyin-shao2.mp3]       4643    ㄕㄠˊ   \n",
       "2      [sound:agj-pinyin-kou3.mp3]        404    ㄎㄡˇ   \n",
       "3       [sound:agj-pinyin-ri4.mp3]        124     ㄖ`   \n",
       "4      [sound:agj-pinyin-bai2.mp3]        358    ㄅㄞˊ   \n",
       "...                            ...        ...    ...   \n",
       "3178   [sound:agj-pinyin-bao2.mp3]       4895    ㄅㄠˊ   \n",
       "3179  [sound:agj-pinyin-kang1.mp3]       4916     ㄎㄤ   \n",
       "3180   [sound:agj-pinyin-zhi2.mp3]       5117     ㄓˊ   \n",
       "3181   [sound:agj-pinyin-luo2.mp3]       5168   ㄌㄨㄛˊ   \n",
       "3182  [sound:agj-pinyin-qiao1.mp3]       5446    ㄑㄧㄠ   \n",
       "\n",
       "               Vocabulary Zhuyin  \n",
       "0       ㄧ ㄉㄧㄢˇ  ㄧ ㄉㄧㄢˇㄦ˙  ㄧ ㄒㄧㄝ   \n",
       "1                            NaN  \n",
       "2     ㄕˊㄗ`ㄌㄨ`ㄎㄡˇ  ㄇㄣˊㄎㄡˇ  ㄌㄨ`ㄎㄡˇ  \n",
       "3        ㄖ`ㄅㄣˇ  ㄕㄥ ㄖ`  ㄒㄧㄥ ㄑㄧ ㄖ`  \n",
       "4         ㄅㄞˊㄙㄜ`  ㄅㄞˊㄅㄞˊ  ㄅㄞˊㄘㄞ`  \n",
       "...                          ...  \n",
       "3178                         NaN  \n",
       "3179                         NaN  \n",
       "3180                         NaN  \n",
       "3181                         NaN  \n",
       "3182                         NaN  \n",
       "\n",
       "[3183 rows x 13 columns]"
      ]
     },
     "execution_count": 11,
     "metadata": {},
     "output_type": "execute_result"
    }
   ],
   "source": [
    "df"
   ]
  },
  {
   "cell_type": "raw",
   "metadata": {},
   "source": [
    "example block"
   ]
  },
  {
   "cell_type": "code",
   "execution_count": 18,
   "metadata": {},
   "outputs": [],
   "source": [
    "a = df['Traditional'][4]"
   ]
  },
  {
   "cell_type": "code",
   "execution_count": 19,
   "metadata": {},
   "outputs": [],
   "source": [
    "cjk = characterlookup.CharacterLookup('C')"
   ]
  },
  {
   "cell_type": "code",
   "execution_count": 20,
   "metadata": {
    "scrolled": true
   },
   "outputs": [
    {
     "data": {
      "text/plain": [
       "['㇒', '㇑', '㇕', '㇐', '㇐']"
      ]
     },
     "execution_count": 20,
     "metadata": {},
     "output_type": "execute_result"
    }
   ],
   "source": [
    "cjk.getStrokeOrder(u'{}'.format(a))"
   ]
  },
  {
   "cell_type": "code",
   "execution_count": 8,
   "metadata": {},
   "outputs": [
    {
     "data": {
      "text/plain": [
       "21242"
      ]
     },
     "execution_count": 8,
     "metadata": {},
     "output_type": "execute_result"
    }
   ],
   "source": [
    "ord(u'勺')"
   ]
  },
  {
   "cell_type": "markdown",
   "metadata": {},
   "source": [
    "get stroke order for each character"
   ]
  },
  {
   "cell_type": "code",
   "execution_count": 12,
   "metadata": {},
   "outputs": [],
   "source": [
    "strokes = df['Traditional']"
   ]
  },
  {
   "cell_type": "code",
   "execution_count": 27,
   "metadata": {},
   "outputs": [
    {
     "data": {
      "text/plain": [
       "3183"
      ]
     },
     "execution_count": 27,
     "metadata": {},
     "output_type": "execute_result"
    }
   ],
   "source": [
    "len(strokes)"
   ]
  },
  {
   "cell_type": "code",
   "execution_count": 23,
   "metadata": {},
   "outputs": [
    {
     "name": "stdout",
     "output_type": "stream",
     "text": [
      "勺\n"
     ]
    }
   ],
   "source": [
    "for item in strokes[1]:\n",
    "    print(item)"
   ]
  },
  {
   "cell_type": "code",
   "execution_count": 24,
   "metadata": {
    "scrolled": false
   },
   "outputs": [
    {
     "name": "stderr",
     "output_type": "stream",
     "text": [
      "/home/mrinalmanu/.local/lib/python3.6/site-packages/cjklib/characterlookup.py:1204: UserWarning: Invalid decomposition entry ['⿴', ('又', 0), ('丶', 0)]\n",
      "  \"Invalid decomposition entry %r\" % subTree)\n"
     ]
    }
   ],
   "source": [
    "get_strokes= []\n",
    "for item in range(len(strokes)):\n",
    "    try:\n",
    "        get_strokes.append(cjk.getStrokeOrder(u'{}'.format(strokes[item])))\n",
    "    except:\n",
    "        get_strokes.append('')"
   ]
  },
  {
   "cell_type": "code",
   "execution_count": 25,
   "metadata": {},
   "outputs": [
    {
     "data": {
      "text/plain": [
       "3183"
      ]
     },
     "execution_count": 25,
     "metadata": {},
     "output_type": "execute_result"
    }
   ],
   "source": [
    "len(get_strokes)"
   ]
  },
  {
   "cell_type": "code",
   "execution_count": 26,
   "metadata": {},
   "outputs": [
    {
     "data": {
      "text/plain": [
       "['㇒', '㇆', '㇔']"
      ]
     },
     "execution_count": 26,
     "metadata": {},
     "output_type": "execute_result"
    }
   ],
   "source": [
    "get_strokes[1]"
   ]
  },
  {
   "cell_type": "code",
   "execution_count": 28,
   "metadata": {},
   "outputs": [
    {
     "data": {
      "text/html": [
       "<div>\n",
       "<style scoped>\n",
       "    .dataframe tbody tr th:only-of-type {\n",
       "        vertical-align: middle;\n",
       "    }\n",
       "\n",
       "    .dataframe tbody tr th {\n",
       "        vertical-align: top;\n",
       "    }\n",
       "\n",
       "    .dataframe thead th {\n",
       "        text-align: right;\n",
       "    }\n",
       "</style>\n",
       "<table border=\"1\" class=\"dataframe\">\n",
       "  <thead>\n",
       "    <tr style=\"text-align: right;\">\n",
       "      <th></th>\n",
       "      <th>Traditional</th>\n",
       "      <th>Study Order</th>\n",
       "      <th>Variants</th>\n",
       "      <th>Simplified</th>\n",
       "      <th>Pinyin</th>\n",
       "      <th>Keyword</th>\n",
       "      <th>Meaning</th>\n",
       "      <th>Examples</th>\n",
       "      <th>Examples Pinyin</th>\n",
       "      <th>Sound</th>\n",
       "      <th>Frequency</th>\n",
       "      <th>Zhuyin</th>\n",
       "      <th>Vocabulary Zhuyin</th>\n",
       "      <th>Stroke Order</th>\n",
       "    </tr>\n",
       "  </thead>\n",
       "  <tbody>\n",
       "    <tr>\n",
       "      <th>0</th>\n",
       "      <td>一</td>\n",
       "      <td>1</td>\n",
       "      <td>NaN</td>\n",
       "      <td>NaN</td>\n",
       "      <td>yī</td>\n",
       "      <td>one</td>\n",
       "      <td>one; a, an; alone</td>\n",
       "      <td>一點 一點兒 一些</td>\n",
       "      <td>yīdiǎn yīdiǎnr yīxiē</td>\n",
       "      <td>[sound:agj-pinyin-yi1.mp3]</td>\n",
       "      <td>5</td>\n",
       "      <td>ㄧ</td>\n",
       "      <td>ㄧ ㄉㄧㄢˇ  ㄧ ㄉㄧㄢˇㄦ˙  ㄧ ㄒㄧㄝ</td>\n",
       "      <td>[㇐]</td>\n",
       "    </tr>\n",
       "    <tr>\n",
       "      <th>1</th>\n",
       "      <td>勺</td>\n",
       "      <td>2</td>\n",
       "      <td>NaN</td>\n",
       "      <td>NaN</td>\n",
       "      <td>sháo</td>\n",
       "      <td>ladle</td>\n",
       "      <td>spoon, ladle; unit of volume</td>\n",
       "      <td>NaN</td>\n",
       "      <td>NaN</td>\n",
       "      <td>[sound:agj-pinyin-shao2.mp3]</td>\n",
       "      <td>4643</td>\n",
       "      <td>ㄕㄠˊ</td>\n",
       "      <td>NaN</td>\n",
       "      <td>[㇒, ㇆, ㇔]</td>\n",
       "    </tr>\n",
       "    <tr>\n",
       "      <th>2</th>\n",
       "      <td>口</td>\n",
       "      <td>3</td>\n",
       "      <td>NaN</td>\n",
       "      <td>NaN</td>\n",
       "      <td>kǒu</td>\n",
       "      <td>mouth</td>\n",
       "      <td>mouth; open end; entrance, gate</td>\n",
       "      <td>十字路口 門口 路口</td>\n",
       "      <td>shízìlùkǒu ménkǒu lùkǒu</td>\n",
       "      <td>[sound:agj-pinyin-kou3.mp3]</td>\n",
       "      <td>404</td>\n",
       "      <td>ㄎㄡˇ</td>\n",
       "      <td>ㄕˊㄗ`ㄌㄨ`ㄎㄡˇ  ㄇㄣˊㄎㄡˇ  ㄌㄨ`ㄎㄡˇ</td>\n",
       "      <td>[㇑, ㇕, ㇐]</td>\n",
       "    </tr>\n",
       "    <tr>\n",
       "      <th>3</th>\n",
       "      <td>日</td>\n",
       "      <td>4</td>\n",
       "      <td>NaN</td>\n",
       "      <td>NaN</td>\n",
       "      <td>rì</td>\n",
       "      <td>day</td>\n",
       "      <td>sun; day; daytime</td>\n",
       "      <td>日本 生日 星期日</td>\n",
       "      <td>Rìběn shēngrì Xīngqīrì</td>\n",
       "      <td>[sound:agj-pinyin-ri4.mp3]</td>\n",
       "      <td>124</td>\n",
       "      <td>ㄖ`</td>\n",
       "      <td>ㄖ`ㄅㄣˇ  ㄕㄥ ㄖ`  ㄒㄧㄥ ㄑㄧ ㄖ`</td>\n",
       "      <td>[㇑, ㇕, ㇐, ㇐]</td>\n",
       "    </tr>\n",
       "    <tr>\n",
       "      <th>4</th>\n",
       "      <td>白</td>\n",
       "      <td>5</td>\n",
       "      <td>NaN</td>\n",
       "      <td>NaN</td>\n",
       "      <td>bái</td>\n",
       "      <td>white</td>\n",
       "      <td>white; pure, unblemished; bright</td>\n",
       "      <td>白色 白白 白菜</td>\n",
       "      <td>báisè báibái báicài</td>\n",
       "      <td>[sound:agj-pinyin-bai2.mp3]</td>\n",
       "      <td>358</td>\n",
       "      <td>ㄅㄞˊ</td>\n",
       "      <td>ㄅㄞˊㄙㄜ`  ㄅㄞˊㄅㄞˊ  ㄅㄞˊㄘㄞ`</td>\n",
       "      <td>[㇒, ㇑, ㇕, ㇐, ㇐]</td>\n",
       "    </tr>\n",
       "    <tr>\n",
       "      <th>...</th>\n",
       "      <td>...</td>\n",
       "      <td>...</td>\n",
       "      <td>...</td>\n",
       "      <td>...</td>\n",
       "      <td>...</td>\n",
       "      <td>...</td>\n",
       "      <td>...</td>\n",
       "      <td>...</td>\n",
       "      <td>...</td>\n",
       "      <td>...</td>\n",
       "      <td>...</td>\n",
       "      <td>...</td>\n",
       "      <td>...</td>\n",
       "      <td>...</td>\n",
       "    </tr>\n",
       "    <tr>\n",
       "      <th>3178</th>\n",
       "      <td>雹</td>\n",
       "      <td>3179</td>\n",
       "      <td>NaN</td>\n",
       "      <td>NaN</td>\n",
       "      <td>báo</td>\n",
       "      <td>hail</td>\n",
       "      <td>hail</td>\n",
       "      <td>NaN</td>\n",
       "      <td>NaN</td>\n",
       "      <td>[sound:agj-pinyin-bao2.mp3]</td>\n",
       "      <td>4895</td>\n",
       "      <td>ㄅㄠˊ</td>\n",
       "      <td>NaN</td>\n",
       "      <td>[㇐, ㇔, ㇖, ㇑, ㇐, ㇐, ㇐, ㇐, ㇒, ㇆, ㇕, ㇐, ㇟]</td>\n",
       "    </tr>\n",
       "    <tr>\n",
       "      <th>3179</th>\n",
       "      <td>糠</td>\n",
       "      <td>3180</td>\n",
       "      <td>NaN</td>\n",
       "      <td>NaN</td>\n",
       "      <td>kāng</td>\n",
       "      <td>chaff</td>\n",
       "      <td>chaff, bran, husks; poor</td>\n",
       "      <td>NaN</td>\n",
       "      <td>NaN</td>\n",
       "      <td>[sound:agj-pinyin-kang1.mp3]</td>\n",
       "      <td>4916</td>\n",
       "      <td>ㄎㄤ</td>\n",
       "      <td>NaN</td>\n",
       "      <td></td>\n",
       "    </tr>\n",
       "    <tr>\n",
       "      <th>3180</th>\n",
       "      <td>侄</td>\n",
       "      <td>3181</td>\n",
       "      <td>NaN</td>\n",
       "      <td>NaN</td>\n",
       "      <td>zhí</td>\n",
       "      <td>nephew</td>\n",
       "      <td>nephew</td>\n",
       "      <td>NaN</td>\n",
       "      <td>NaN</td>\n",
       "      <td>[sound:agj-pinyin-zhi2.mp3]</td>\n",
       "      <td>5117</td>\n",
       "      <td>ㄓˊ</td>\n",
       "      <td>NaN</td>\n",
       "      <td>[㇒, ㇑, ㇐, ㇜, ㇔, ㇐, ㇑, ㇐]</td>\n",
       "    </tr>\n",
       "    <tr>\n",
       "      <th>3181</th>\n",
       "      <td>騾</td>\n",
       "      <td>3182</td>\n",
       "      <td>NaN</td>\n",
       "      <td>骡</td>\n",
       "      <td>luó</td>\n",
       "      <td>mule</td>\n",
       "      <td>mule</td>\n",
       "      <td>NaN</td>\n",
       "      <td>NaN</td>\n",
       "      <td>[sound:agj-pinyin-luo2.mp3]</td>\n",
       "      <td>5168</td>\n",
       "      <td>ㄌㄨㄛˊ</td>\n",
       "      <td>NaN</td>\n",
       "      <td>[㇐, ㇑, ㇐, ㇐, ㇑, ㇆, ㇔, ㇔, ㇔, ㇔, ㇑, ㇕, ㇐, ㇑, ㇐, ...</td>\n",
       "    </tr>\n",
       "    <tr>\n",
       "      <th>3182</th>\n",
       "      <td>鍬</td>\n",
       "      <td>3183</td>\n",
       "      <td>NaN</td>\n",
       "      <td>锹</td>\n",
       "      <td>qiāo</td>\n",
       "      <td>shovel</td>\n",
       "      <td>shovel</td>\n",
       "      <td>NaN</td>\n",
       "      <td>NaN</td>\n",
       "      <td>[sound:agj-pinyin-qiao1.mp3]</td>\n",
       "      <td>5446</td>\n",
       "      <td>ㄑㄧㄠ</td>\n",
       "      <td>NaN</td>\n",
       "      <td>[㇒, ㇔, ㇐, ㇐, ㇑, ㇔, ㇒, ㇀, ㇒, ㇐, ㇑, ㇒, ㇔, ㇔, ㇒, ...</td>\n",
       "    </tr>\n",
       "  </tbody>\n",
       "</table>\n",
       "<p>3183 rows × 14 columns</p>\n",
       "</div>"
      ],
      "text/plain": [
       "     Traditional  Study Order Variants Simplified Pinyin Keyword  \\\n",
       "0              一            1      NaN        NaN     yī     one   \n",
       "1              勺            2      NaN        NaN   sháo   ladle   \n",
       "2              口            3      NaN        NaN    kǒu   mouth   \n",
       "3              日            4      NaN        NaN     rì     day   \n",
       "4              白            5      NaN        NaN    bái   white   \n",
       "...          ...          ...      ...        ...    ...     ...   \n",
       "3178           雹         3179      NaN        NaN    báo    hail   \n",
       "3179           糠         3180      NaN        NaN   kāng   chaff   \n",
       "3180           侄         3181      NaN        NaN    zhí  nephew   \n",
       "3181           騾         3182      NaN          骡    luó    mule   \n",
       "3182           鍬         3183      NaN          锹   qiāo  shovel   \n",
       "\n",
       "                               Meaning    Examples          Examples Pinyin  \\\n",
       "0                    one; a, an; alone   一點 一點兒 一些     yīdiǎn yīdiǎnr yīxiē   \n",
       "1         spoon, ladle; unit of volume         NaN                      NaN   \n",
       "2      mouth; open end; entrance, gate  十字路口 門口 路口  shízìlùkǒu ménkǒu lùkǒu   \n",
       "3                    sun; day; daytime   日本 生日 星期日   Rìběn shēngrì Xīngqīrì   \n",
       "4     white; pure, unblemished; bright    白色 白白 白菜      báisè báibái báicài   \n",
       "...                                ...         ...                      ...   \n",
       "3178                              hail         NaN                      NaN   \n",
       "3179          chaff, bran, husks; poor         NaN                      NaN   \n",
       "3180                            nephew         NaN                      NaN   \n",
       "3181                              mule         NaN                      NaN   \n",
       "3182                            shovel         NaN                      NaN   \n",
       "\n",
       "                             Sound  Frequency Zhuyin  \\\n",
       "0       [sound:agj-pinyin-yi1.mp3]          5      ㄧ   \n",
       "1     [sound:agj-pinyin-shao2.mp3]       4643    ㄕㄠˊ   \n",
       "2      [sound:agj-pinyin-kou3.mp3]        404    ㄎㄡˇ   \n",
       "3       [sound:agj-pinyin-ri4.mp3]        124     ㄖ`   \n",
       "4      [sound:agj-pinyin-bai2.mp3]        358    ㄅㄞˊ   \n",
       "...                            ...        ...    ...   \n",
       "3178   [sound:agj-pinyin-bao2.mp3]       4895    ㄅㄠˊ   \n",
       "3179  [sound:agj-pinyin-kang1.mp3]       4916     ㄎㄤ   \n",
       "3180   [sound:agj-pinyin-zhi2.mp3]       5117     ㄓˊ   \n",
       "3181   [sound:agj-pinyin-luo2.mp3]       5168   ㄌㄨㄛˊ   \n",
       "3182  [sound:agj-pinyin-qiao1.mp3]       5446    ㄑㄧㄠ   \n",
       "\n",
       "               Vocabulary Zhuyin  \\\n",
       "0       ㄧ ㄉㄧㄢˇ  ㄧ ㄉㄧㄢˇㄦ˙  ㄧ ㄒㄧㄝ    \n",
       "1                            NaN   \n",
       "2     ㄕˊㄗ`ㄌㄨ`ㄎㄡˇ  ㄇㄣˊㄎㄡˇ  ㄌㄨ`ㄎㄡˇ   \n",
       "3        ㄖ`ㄅㄣˇ  ㄕㄥ ㄖ`  ㄒㄧㄥ ㄑㄧ ㄖ`   \n",
       "4         ㄅㄞˊㄙㄜ`  ㄅㄞˊㄅㄞˊ  ㄅㄞˊㄘㄞ`   \n",
       "...                          ...   \n",
       "3178                         NaN   \n",
       "3179                         NaN   \n",
       "3180                         NaN   \n",
       "3181                         NaN   \n",
       "3182                         NaN   \n",
       "\n",
       "                                           Stroke Order  \n",
       "0                                                   [㇐]  \n",
       "1                                             [㇒, ㇆, ㇔]  \n",
       "2                                             [㇑, ㇕, ㇐]  \n",
       "3                                          [㇑, ㇕, ㇐, ㇐]  \n",
       "4                                       [㇒, ㇑, ㇕, ㇐, ㇐]  \n",
       "...                                                 ...  \n",
       "3178            [㇐, ㇔, ㇖, ㇑, ㇐, ㇐, ㇐, ㇐, ㇒, ㇆, ㇕, ㇐, ㇟]  \n",
       "3179                                                     \n",
       "3180                           [㇒, ㇑, ㇐, ㇜, ㇔, ㇐, ㇑, ㇐]  \n",
       "3181  [㇐, ㇑, ㇐, ㇐, ㇑, ㇆, ㇔, ㇔, ㇔, ㇔, ㇑, ㇕, ㇐, ㇑, ㇐, ...  \n",
       "3182  [㇒, ㇔, ㇐, ㇐, ㇑, ㇔, ㇒, ㇀, ㇒, ㇐, ㇑, ㇒, ㇔, ㇔, ㇒, ...  \n",
       "\n",
       "[3183 rows x 14 columns]"
      ]
     },
     "execution_count": 28,
     "metadata": {},
     "output_type": "execute_result"
    }
   ],
   "source": [
    "df['Stroke Order'] = get_strokes\n",
    "df"
   ]
  },
  {
   "cell_type": "markdown",
   "metadata": {},
   "source": [
    "parse pattern type 1"
   ]
  },
  {
   "cell_type": "code",
   "execution_count": 9,
   "metadata": {},
   "outputs": [],
   "source": [
    "file = '/home/mrinalmanu/Downloads/LANGUAGES/Chinese/texts/mp3-chinese-pinyin-sound-master/Etymological_Dictionary_of_Han_Chinese_Characters.txt'\n",
    "pattern = re.compile(r\"\\((\\d+)\\)\")\n",
    "out_file = '/home/mrinalmanu/Downloads/LANGUAGES/Chinese/texts/mp3-chinese-pinyin-sound-master/type_1'"
   ]
  },
  {
   "cell_type": "markdown",
   "metadata": {},
   "source": [
    "with open(out_file, 'a') as f:\n",
    "    with open(file, 'r', encoding='UTF-8') as myfile:\n",
    "        for line in myfile:\n",
    "            if pattern.search(line):\n",
    "                f.write(line)"
   ]
  },
  {
   "cell_type": "markdown",
   "metadata": {},
   "source": [
    "parse pattern type 2\n",
    "\n",
    "Replace \\((\\d+)\\) with }{||\n",
    "Replace \\n with a ' '\n",
    "Replace || with a \\n\n",
    "\n",
    "The text is thus bracised and chunked for regex for type 2"
   ]
  },
  {
   "cell_type": "markdown",
   "metadata": {},
   "source": [
    "combined colon seperated file"
   ]
  },
  {
   "cell_type": "code",
   "execution_count": 81,
   "metadata": {},
   "outputs": [],
   "source": [
    "file= \"/home/mrinalmanu/Downloads/LANGUAGES/Chinese/texts/mp3-chinese-pinyin-sound-master/type_3.csv\"\n",
    "columns = ['Traditional', 'Etymology']"
   ]
  },
  {
   "cell_type": "code",
   "execution_count": 82,
   "metadata": {
    "scrolled": true
   },
   "outputs": [
    {
     "data": {
      "text/html": [
       "<div>\n",
       "<style scoped>\n",
       "    .dataframe tbody tr th:only-of-type {\n",
       "        vertical-align: middle;\n",
       "    }\n",
       "\n",
       "    .dataframe tbody tr th {\n",
       "        vertical-align: top;\n",
       "    }\n",
       "\n",
       "    .dataframe thead th {\n",
       "        text-align: right;\n",
       "    }\n",
       "</style>\n",
       "<table border=\"1\" class=\"dataframe\">\n",
       "  <thead>\n",
       "    <tr style=\"text-align: right;\">\n",
       "      <th></th>\n",
       "      <th>Traditional</th>\n",
       "      <th>Etymology</th>\n",
       "    </tr>\n",
       "  </thead>\n",
       "  <tbody>\n",
       "    <tr>\n",
       "      <th>0</th>\n",
       "      <td>古</td>\n",
       "      <td>The relevant oracle bone form of 古 combines 口 ...</td>\n",
       "    </tr>\n",
       "    <tr>\n",
       "      <th>1</th>\n",
       "      <td>苦</td>\n",
       "      <td>古# hard; dried out + 艸 grass/plant | *bitter* ...</td>\n",
       "    </tr>\n",
       "    <tr>\n",
       "      <th>2</th>\n",
       "      <td>固</td>\n",
       "      <td>古# hard; dried out + 囗 circular enclosure | ha...</td>\n",
       "    </tr>\n",
       "    <tr>\n",
       "      <th>3</th>\n",
       "      <td>個</td>\n",
       "      <td>As per 固# (hardened/hard object) + 人 person | ...</td>\n",
       "    </tr>\n",
       "    <tr>\n",
       "      <th>4</th>\n",
       "      <td>箇</td>\n",
       "      <td>As per 固# (hardened/hard object) + 竹 bamboo | ...</td>\n",
       "    </tr>\n",
       "    <tr>\n",
       "      <th>...</th>\n",
       "      <td>...</td>\n",
       "      <td>...</td>\n",
       "    </tr>\n",
       "    <tr>\n",
       "      <th>6375</th>\n",
       "      <td>竡</td>\n",
       "      <td>立 (ON reading: リツ) for the sound of リ(ッ) as an...</td>\n",
       "    </tr>\n",
       "    <tr>\n",
       "      <th>6376</th>\n",
       "      <td>竰</td>\n",
       "      <td>立 (ON reading: リツ) for the sound of リ(ッ) as an...</td>\n",
       "    </tr>\n",
       "    <tr>\n",
       "      <th>6377</th>\n",
       "      <td>艝</td>\n",
       "      <td>雪 snow + 舟 boat | (boat-shaped) *sleigh*; *sle...</td>\n",
       "    </tr>\n",
       "    <tr>\n",
       "      <th>6378</th>\n",
       "      <td>轌</td>\n",
       "      <td>雪 snow + 車 vehicle | *sleigh*; *sled*. Compare...</td>\n",
       "    </tr>\n",
       "    <tr>\n",
       "      <th>6379</th>\n",
       "      <td>萢</td>\n",
       "      <td>苞 miscanthus + 水 water | *wetlands*; *marshlan...</td>\n",
       "    </tr>\n",
       "  </tbody>\n",
       "</table>\n",
       "<p>6380 rows × 2 columns</p>\n",
       "</div>"
      ],
      "text/plain": [
       "     Traditional                                          Etymology\n",
       "0              古  The relevant oracle bone form of 古 combines 口 ...\n",
       "1              苦  古# hard; dried out + 艸 grass/plant | *bitter* ...\n",
       "2              固  古# hard; dried out + 囗 circular enclosure | ha...\n",
       "3              個  As per 固# (hardened/hard object) + 人 person | ...\n",
       "4              箇  As per 固# (hardened/hard object) + 竹 bamboo | ...\n",
       "...          ...                                                ...\n",
       "6375           竡  立 (ON reading: リツ) for the sound of リ(ッ) as an...\n",
       "6376           竰  立 (ON reading: リツ) for the sound of リ(ッ) as an...\n",
       "6377           艝  雪 snow + 舟 boat | (boat-shaped) *sleigh*; *sle...\n",
       "6378           轌  雪 snow + 車 vehicle | *sleigh*; *sled*. Compare...\n",
       "6379           萢  苞 miscanthus + 水 water | *wetlands*; *marshlan...\n",
       "\n",
       "[6380 rows x 2 columns]"
      ]
     },
     "execution_count": 82,
     "metadata": {},
     "output_type": "execute_result"
    }
   ],
   "source": [
    "df_2 = pd.read_csv(file,header=None,sep=':', names = columns)\n",
    "df_2"
   ]
  },
  {
   "cell_type": "code",
   "execution_count": 31,
   "metadata": {},
   "outputs": [
    {
     "data": {
      "text/plain": [
       "3183"
      ]
     },
     "execution_count": 31,
     "metadata": {},
     "output_type": "execute_result"
    }
   ],
   "source": [
    "len(df)"
   ]
  },
  {
   "cell_type": "code",
   "execution_count": 40,
   "metadata": {
    "scrolled": true
   },
   "outputs": [
    {
     "data": {
      "text/plain": [
       "6380"
      ]
     },
     "execution_count": 40,
     "metadata": {},
     "output_type": "execute_result"
    }
   ],
   "source": [
    "len(df_2['Traditional'])"
   ]
  },
  {
   "cell_type": "code",
   "execution_count": 47,
   "metadata": {},
   "outputs": [
    {
     "data": {
      "text/plain": [
       "22266"
      ]
     },
     "execution_count": 47,
     "metadata": {},
     "output_type": "execute_result"
    }
   ],
   "source": [
    "ord(u'{}'.format(df_2['Traditional'][2]))"
   ]
  },
  {
   "cell_type": "code",
   "execution_count": 49,
   "metadata": {},
   "outputs": [],
   "source": [
    "chars = df_2['Traditional']"
   ]
  },
  {
   "cell_type": "code",
   "execution_count": 53,
   "metadata": {},
   "outputs": [
    {
     "data": {
      "text/plain": [
       "'個'"
      ]
     },
     "execution_count": 53,
     "metadata": {},
     "output_type": "execute_result"
    }
   ],
   "source": [
    "chars[3]"
   ]
  },
  {
   "cell_type": "markdown",
   "metadata": {},
   "source": [
    "SVG_files = []"
   ]
  },
  {
   "cell_type": "markdown",
   "metadata": {},
   "source": [
    "for i in range(len(chars)):\n",
    "    try:\n",
    "        string = str(ord(u'{}'.format(chars[i])))+'.svg'\n",
    "        SVG_files.append(string)\n",
    "    except:\n",
    "        SVG_files.append('')"
   ]
  },
  {
   "cell_type": "code",
   "execution_count": 85,
   "metadata": {},
   "outputs": [],
   "source": [
    "colnames=['Gif', 'Simplified']\n",
    "ind = pd.read_csv('/home/mrinalmanu/Downloads/LANGUAGES/Chinese/texts/mp3-chinese-pinyin-sound-master/final/index.csv', sep='\\t', names = colnames)"
   ]
  },
  {
   "cell_type": "code",
   "execution_count": 86,
   "metadata": {},
   "outputs": [
    {
     "data": {
      "text/html": [
       "<div>\n",
       "<style scoped>\n",
       "    .dataframe tbody tr th:only-of-type {\n",
       "        vertical-align: middle;\n",
       "    }\n",
       "\n",
       "    .dataframe tbody tr th {\n",
       "        vertical-align: top;\n",
       "    }\n",
       "\n",
       "    .dataframe thead th {\n",
       "        text-align: right;\n",
       "    }\n",
       "</style>\n",
       "<table border=\"1\" class=\"dataframe\">\n",
       "  <thead>\n",
       "    <tr style=\"text-align: right;\">\n",
       "      <th></th>\n",
       "      <th>Gif</th>\n",
       "      <th>Simplified</th>\n",
       "    </tr>\n",
       "  </thead>\n",
       "  <tbody>\n",
       "    <tr>\n",
       "      <th>0</th>\n",
       "      <td>[image:images-large/7684.gif]</td>\n",
       "      <td>的</td>\n",
       "    </tr>\n",
       "    <tr>\n",
       "      <th>1</th>\n",
       "      <td>[image:images-large/662f.gif]</td>\n",
       "      <td>是</td>\n",
       "    </tr>\n",
       "    <tr>\n",
       "      <th>2</th>\n",
       "      <td>[image:images-large/4e0d.gif]</td>\n",
       "      <td>不</td>\n",
       "    </tr>\n",
       "    <tr>\n",
       "      <th>3</th>\n",
       "      <td>[image:images-large/6211.gif]</td>\n",
       "      <td>我</td>\n",
       "    </tr>\n",
       "    <tr>\n",
       "      <th>4</th>\n",
       "      <td>[image:images-large/4e00.gif]</td>\n",
       "      <td>一</td>\n",
       "    </tr>\n",
       "    <tr>\n",
       "      <th>...</th>\n",
       "      <td>...</td>\n",
       "      <td>...</td>\n",
       "    </tr>\n",
       "    <tr>\n",
       "      <th>5253</th>\n",
       "      <td>[image:images-large/790e.gif]</td>\n",
       "      <td>礎</td>\n",
       "    </tr>\n",
       "    <tr>\n",
       "      <th>5254</th>\n",
       "      <td>[image:images-large/7e5e.gif]</td>\n",
       "      <td>繞</td>\n",
       "    </tr>\n",
       "    <tr>\n",
       "      <th>5255</th>\n",
       "      <td>[image:images-large/58e2.gif]</td>\n",
       "      <td>壢</td>\n",
       "    </tr>\n",
       "    <tr>\n",
       "      <th>5256</th>\n",
       "      <td>[image:images-large/5fb9.gif]</td>\n",
       "      <td>徹</td>\n",
       "    </tr>\n",
       "    <tr>\n",
       "      <th>5257</th>\n",
       "      <td>[image:images-large/58fd.gif]</td>\n",
       "      <td>壽</td>\n",
       "    </tr>\n",
       "  </tbody>\n",
       "</table>\n",
       "<p>5258 rows × 2 columns</p>\n",
       "</div>"
      ],
      "text/plain": [
       "                                Gif Simplified\n",
       "0     [image:images-large/7684.gif]          的\n",
       "1     [image:images-large/662f.gif]          是\n",
       "2     [image:images-large/4e0d.gif]          不\n",
       "3     [image:images-large/6211.gif]          我\n",
       "4     [image:images-large/4e00.gif]          一\n",
       "...                             ...        ...\n",
       "5253  [image:images-large/790e.gif]          礎\n",
       "5254  [image:images-large/7e5e.gif]          繞\n",
       "5255  [image:images-large/58e2.gif]          壢\n",
       "5256  [image:images-large/5fb9.gif]          徹\n",
       "5257  [image:images-large/58fd.gif]          壽\n",
       "\n",
       "[5258 rows x 2 columns]"
      ]
     },
     "execution_count": 86,
     "metadata": {},
     "output_type": "execute_result"
    }
   ],
   "source": [
    "ind"
   ]
  },
  {
   "cell_type": "markdown",
   "metadata": {},
   "source": [
    "merge the two dataframes (df_2 and df) on 'traditional'"
   ]
  },
  {
   "cell_type": "code",
   "execution_count": 87,
   "metadata": {},
   "outputs": [],
   "source": [
    "df_x = pd.merge(df, df_2, on='Traditional', how='left')"
   ]
  },
  {
   "cell_type": "code",
   "execution_count": 88,
   "metadata": {
    "scrolled": true
   },
   "outputs": [
    {
     "data": {
      "text/plain": [
       "3183"
      ]
     },
     "execution_count": 88,
     "metadata": {},
     "output_type": "execute_result"
    }
   ],
   "source": [
    "len(df_x)"
   ]
  },
  {
   "cell_type": "code",
   "execution_count": 97,
   "metadata": {},
   "outputs": [],
   "source": [
    "from hanziconv import HanziConv"
   ]
  },
  {
   "cell_type": "code",
   "execution_count": 98,
   "metadata": {},
   "outputs": [
    {
     "data": {
      "text/plain": [
       "'繁简转换器'"
      ]
     },
     "execution_count": 98,
     "metadata": {},
     "output_type": "execute_result"
    }
   ],
   "source": [
    "HanziConv.toSimplified('繁簡轉換器')"
   ]
  },
  {
   "cell_type": "code",
   "execution_count": 99,
   "metadata": {},
   "outputs": [],
   "source": [
    "items = df_x['Traditional']"
   ]
  },
  {
   "cell_type": "code",
   "execution_count": 100,
   "metadata": {},
   "outputs": [],
   "source": [
    "simplified = []\n",
    "for i in range(len(items)):\n",
    "    try:\n",
    "        simplified.append(HanziConv.toSimplified('{}'.format(items[i])))\n",
    "    except:\n",
    "        simplified.append('')"
   ]
  },
  {
   "cell_type": "code",
   "execution_count": 101,
   "metadata": {},
   "outputs": [
    {
     "data": {
      "text/plain": [
       "3183"
      ]
     },
     "execution_count": 101,
     "metadata": {},
     "output_type": "execute_result"
    }
   ],
   "source": [
    "len(simplified)"
   ]
  },
  {
   "cell_type": "code",
   "execution_count": 102,
   "metadata": {},
   "outputs": [
    {
     "data": {
      "text/plain": [
       "'勺'"
      ]
     },
     "execution_count": 102,
     "metadata": {},
     "output_type": "execute_result"
    }
   ],
   "source": [
    "simplified[1]"
   ]
  },
  {
   "cell_type": "code",
   "execution_count": 103,
   "metadata": {},
   "outputs": [],
   "source": [
    "df_x['Simplified'] = simplified"
   ]
  },
  {
   "cell_type": "code",
   "execution_count": 104,
   "metadata": {},
   "outputs": [],
   "source": [
    "df_y = pd.merge(df_x, ind, on='Simplified', how='left')"
   ]
  },
  {
   "cell_type": "code",
   "execution_count": 105,
   "metadata": {},
   "outputs": [
    {
     "data": {
      "text/html": [
       "<div>\n",
       "<style scoped>\n",
       "    .dataframe tbody tr th:only-of-type {\n",
       "        vertical-align: middle;\n",
       "    }\n",
       "\n",
       "    .dataframe tbody tr th {\n",
       "        vertical-align: top;\n",
       "    }\n",
       "\n",
       "    .dataframe thead th {\n",
       "        text-align: right;\n",
       "    }\n",
       "</style>\n",
       "<table border=\"1\" class=\"dataframe\">\n",
       "  <thead>\n",
       "    <tr style=\"text-align: right;\">\n",
       "      <th></th>\n",
       "      <th>Traditional</th>\n",
       "      <th>Study Order</th>\n",
       "      <th>Variants</th>\n",
       "      <th>Simplified</th>\n",
       "      <th>Pinyin</th>\n",
       "      <th>Keyword</th>\n",
       "      <th>Meaning</th>\n",
       "      <th>Examples</th>\n",
       "      <th>Examples Pinyin</th>\n",
       "      <th>Sound</th>\n",
       "      <th>Frequency</th>\n",
       "      <th>Zhuyin</th>\n",
       "      <th>Vocabulary Zhuyin</th>\n",
       "      <th>Stroke Order</th>\n",
       "      <th>Etymology</th>\n",
       "      <th>Gif</th>\n",
       "    </tr>\n",
       "  </thead>\n",
       "  <tbody>\n",
       "    <tr>\n",
       "      <th>0</th>\n",
       "      <td>一</td>\n",
       "      <td>1</td>\n",
       "      <td>NaN</td>\n",
       "      <td>一</td>\n",
       "      <td>yī</td>\n",
       "      <td>one</td>\n",
       "      <td>one; a, an; alone</td>\n",
       "      <td>一點 一點兒 一些</td>\n",
       "      <td>yīdiǎn yīdiǎnr yīxiē</td>\n",
       "      <td>[sound:agj-pinyin-yi1.mp3]</td>\n",
       "      <td>5</td>\n",
       "      <td>ㄧ</td>\n",
       "      <td>ㄧ ㄉㄧㄢˇ  ㄧ ㄉㄧㄢˇㄦ˙  ㄧ ㄒㄧㄝ</td>\n",
       "      <td>[㇐]</td>\n",
       "      <td>Although 一 is sometimes said to represent an o...</td>\n",
       "      <td>[image:images-large/4e00.gif]</td>\n",
       "    </tr>\n",
       "    <tr>\n",
       "      <th>1</th>\n",
       "      <td>勺</td>\n",
       "      <td>2</td>\n",
       "      <td>NaN</td>\n",
       "      <td>勺</td>\n",
       "      <td>sháo</td>\n",
       "      <td>ladle</td>\n",
       "      <td>spoon, ladle; unit of volume</td>\n",
       "      <td>NaN</td>\n",
       "      <td>NaN</td>\n",
       "      <td>[sound:agj-pinyin-shao2.mp3]</td>\n",
       "      <td>4643</td>\n",
       "      <td>ㄕㄠˊ</td>\n",
       "      <td>NaN</td>\n",
       "      <td>[㇒, ㇆, ㇔]</td>\n",
       "      <td>A depiction of a slightly curved *spoon* or *l...</td>\n",
       "      <td>NaN</td>\n",
       "    </tr>\n",
       "    <tr>\n",
       "      <th>2</th>\n",
       "      <td>口</td>\n",
       "      <td>3</td>\n",
       "      <td>NaN</td>\n",
       "      <td>口</td>\n",
       "      <td>kǒu</td>\n",
       "      <td>mouth</td>\n",
       "      <td>mouth; open end; entrance, gate</td>\n",
       "      <td>十字路口 門口 路口</td>\n",
       "      <td>shízìlùkǒu ménkǒu lùkǒu</td>\n",
       "      <td>[sound:agj-pinyin-kou3.mp3]</td>\n",
       "      <td>404</td>\n",
       "      <td>ㄎㄡˇ</td>\n",
       "      <td>ㄕˊㄗ`ㄌㄨ`ㄎㄡˇ  ㄇㄣˊㄎㄡˇ  ㄌㄨ`ㄎㄡˇ</td>\n",
       "      <td>[㇑, ㇕, ㇐]</td>\n",
       "      <td>A depiction of a rounded cavity, and in partic...</td>\n",
       "      <td>[image:images-large/53e3.gif]</td>\n",
       "    </tr>\n",
       "    <tr>\n",
       "      <th>3</th>\n",
       "      <td>日</td>\n",
       "      <td>4</td>\n",
       "      <td>NaN</td>\n",
       "      <td>日</td>\n",
       "      <td>rì</td>\n",
       "      <td>day</td>\n",
       "      <td>sun; day; daytime</td>\n",
       "      <td>日本 生日 星期日</td>\n",
       "      <td>Rìběn shēngrì Xīngqīrì</td>\n",
       "      <td>[sound:agj-pinyin-ri4.mp3]</td>\n",
       "      <td>124</td>\n",
       "      <td>ㄖ`</td>\n",
       "      <td>ㄖ`ㄅㄣˇ  ㄕㄥ ㄖ`  ㄒㄧㄥ ㄑㄧ ㄖ`</td>\n",
       "      <td>[㇑, ㇕, ㇐, ㇐]</td>\n",
       "      <td>A depiction of the *sun* | *day* (← appearance...</td>\n",
       "      <td>[image:images-large/65e5.gif]</td>\n",
       "    </tr>\n",
       "    <tr>\n",
       "      <th>4</th>\n",
       "      <td>白</td>\n",
       "      <td>5</td>\n",
       "      <td>NaN</td>\n",
       "      <td>白</td>\n",
       "      <td>bái</td>\n",
       "      <td>white</td>\n",
       "      <td>white; pure, unblemished; bright</td>\n",
       "      <td>白色 白白 白菜</td>\n",
       "      <td>báisè báibái báicài</td>\n",
       "      <td>[sound:agj-pinyin-bai2.mp3]</td>\n",
       "      <td>358</td>\n",
       "      <td>ㄅㄞˊ</td>\n",
       "      <td>ㄅㄞˊㄙㄜ`  ㄅㄞˊㄅㄞˊ  ㄅㄞˊㄘㄞ`</td>\n",
       "      <td>[㇒, ㇑, ㇕, ㇐, ㇐]</td>\n",
       "      <td>A depiction of an acorn, a large number of whi...</td>\n",
       "      <td>[image:images-large/767d.gif]</td>\n",
       "    </tr>\n",
       "    <tr>\n",
       "      <th>...</th>\n",
       "      <td>...</td>\n",
       "      <td>...</td>\n",
       "      <td>...</td>\n",
       "      <td>...</td>\n",
       "      <td>...</td>\n",
       "      <td>...</td>\n",
       "      <td>...</td>\n",
       "      <td>...</td>\n",
       "      <td>...</td>\n",
       "      <td>...</td>\n",
       "      <td>...</td>\n",
       "      <td>...</td>\n",
       "      <td>...</td>\n",
       "      <td>...</td>\n",
       "      <td>...</td>\n",
       "      <td>...</td>\n",
       "    </tr>\n",
       "    <tr>\n",
       "      <th>3178</th>\n",
       "      <td>雹</td>\n",
       "      <td>3179</td>\n",
       "      <td>NaN</td>\n",
       "      <td>雹</td>\n",
       "      <td>báo</td>\n",
       "      <td>hail</td>\n",
       "      <td>hail</td>\n",
       "      <td>NaN</td>\n",
       "      <td>NaN</td>\n",
       "      <td>[sound:agj-pinyin-bao2.mp3]</td>\n",
       "      <td>4895</td>\n",
       "      <td>ㄅㄠˊ</td>\n",
       "      <td>NaN</td>\n",
       "      <td>[㇐, ㇔, ㇖, ㇑, ㇐, ㇐, ㇐, ㇐, ㇒, ㇆, ㇕, ㇐, ㇟]</td>\n",
       "      <td>包# envelop + 雨 rain/natural phenomena | *hail*...</td>\n",
       "      <td>NaN</td>\n",
       "    </tr>\n",
       "    <tr>\n",
       "      <th>3179</th>\n",
       "      <td>糠</td>\n",
       "      <td>3180</td>\n",
       "      <td>NaN</td>\n",
       "      <td>糠</td>\n",
       "      <td>kāng</td>\n",
       "      <td>chaff</td>\n",
       "      <td>chaff, bran, husks; poor</td>\n",
       "      <td>NaN</td>\n",
       "      <td>NaN</td>\n",
       "      <td>[sound:agj-pinyin-kang1.mp3]</td>\n",
       "      <td>4916</td>\n",
       "      <td>ㄎㄤ</td>\n",
       "      <td>NaN</td>\n",
       "      <td></td>\n",
       "      <td>As per 康# (firm husk of a grain plant) + 米 ric...</td>\n",
       "      <td>NaN</td>\n",
       "    </tr>\n",
       "    <tr>\n",
       "      <th>3180</th>\n",
       "      <td>侄</td>\n",
       "      <td>3181</td>\n",
       "      <td>NaN</td>\n",
       "      <td>侄</td>\n",
       "      <td>zhí</td>\n",
       "      <td>nephew</td>\n",
       "      <td>nephew</td>\n",
       "      <td>NaN</td>\n",
       "      <td>NaN</td>\n",
       "      <td>[sound:agj-pinyin-zhi2.mp3]</td>\n",
       "      <td>5117</td>\n",
       "      <td>ㄓˊ</td>\n",
       "      <td>NaN</td>\n",
       "      <td>[㇒, ㇑, ㇐, ㇜, ㇔, ㇐, ㇑, ㇐]</td>\n",
       "      <td>NaN</td>\n",
       "      <td>NaN</td>\n",
       "    </tr>\n",
       "    <tr>\n",
       "      <th>3181</th>\n",
       "      <td>騾</td>\n",
       "      <td>3182</td>\n",
       "      <td>NaN</td>\n",
       "      <td>骡</td>\n",
       "      <td>luó</td>\n",
       "      <td>mule</td>\n",
       "      <td>mule</td>\n",
       "      <td>NaN</td>\n",
       "      <td>NaN</td>\n",
       "      <td>[sound:agj-pinyin-luo2.mp3]</td>\n",
       "      <td>5168</td>\n",
       "      <td>ㄌㄨㄛˊ</td>\n",
       "      <td>NaN</td>\n",
       "      <td>[㇐, ㇑, ㇐, ㇐, ㇑, ㇆, ㇔, ㇔, ㇔, ㇔, ㇑, ㇕, ㇐, ㇑, ㇐, ...</td>\n",
       "      <td>累 here an abbreviated form# of 縲 bind + 馬 hors...</td>\n",
       "      <td>NaN</td>\n",
       "    </tr>\n",
       "    <tr>\n",
       "      <th>3182</th>\n",
       "      <td>鍬</td>\n",
       "      <td>3183</td>\n",
       "      <td>NaN</td>\n",
       "      <td>锹</td>\n",
       "      <td>qiāo</td>\n",
       "      <td>shovel</td>\n",
       "      <td>shovel</td>\n",
       "      <td>NaN</td>\n",
       "      <td>NaN</td>\n",
       "      <td>[sound:agj-pinyin-qiao1.mp3]</td>\n",
       "      <td>5446</td>\n",
       "      <td>ㄑㄧㄠ</td>\n",
       "      <td>NaN</td>\n",
       "      <td>[㇒, ㇔, ㇐, ㇐, ㇑, ㇔, ㇒, ㇀, ㇒, ㇐, ㇑, ㇒, ㇔, ㇔, ㇒, ...</td>\n",
       "      <td>As per 秋# (shrunken) + 金 metal | short-handled...</td>\n",
       "      <td>NaN</td>\n",
       "    </tr>\n",
       "  </tbody>\n",
       "</table>\n",
       "<p>3183 rows × 16 columns</p>\n",
       "</div>"
      ],
      "text/plain": [
       "     Traditional  Study Order Variants Simplified Pinyin Keyword  \\\n",
       "0              一            1      NaN          一     yī     one   \n",
       "1              勺            2      NaN          勺   sháo   ladle   \n",
       "2              口            3      NaN          口    kǒu   mouth   \n",
       "3              日            4      NaN          日     rì     day   \n",
       "4              白            5      NaN          白    bái   white   \n",
       "...          ...          ...      ...        ...    ...     ...   \n",
       "3178           雹         3179      NaN          雹    báo    hail   \n",
       "3179           糠         3180      NaN          糠   kāng   chaff   \n",
       "3180           侄         3181      NaN          侄    zhí  nephew   \n",
       "3181           騾         3182      NaN          骡    luó    mule   \n",
       "3182           鍬         3183      NaN          锹   qiāo  shovel   \n",
       "\n",
       "                               Meaning    Examples          Examples Pinyin  \\\n",
       "0                    one; a, an; alone   一點 一點兒 一些     yīdiǎn yīdiǎnr yīxiē   \n",
       "1         spoon, ladle; unit of volume         NaN                      NaN   \n",
       "2      mouth; open end; entrance, gate  十字路口 門口 路口  shízìlùkǒu ménkǒu lùkǒu   \n",
       "3                    sun; day; daytime   日本 生日 星期日   Rìběn shēngrì Xīngqīrì   \n",
       "4     white; pure, unblemished; bright    白色 白白 白菜      báisè báibái báicài   \n",
       "...                                ...         ...                      ...   \n",
       "3178                              hail         NaN                      NaN   \n",
       "3179          chaff, bran, husks; poor         NaN                      NaN   \n",
       "3180                            nephew         NaN                      NaN   \n",
       "3181                              mule         NaN                      NaN   \n",
       "3182                            shovel         NaN                      NaN   \n",
       "\n",
       "                             Sound  Frequency Zhuyin  \\\n",
       "0       [sound:agj-pinyin-yi1.mp3]          5      ㄧ   \n",
       "1     [sound:agj-pinyin-shao2.mp3]       4643    ㄕㄠˊ   \n",
       "2      [sound:agj-pinyin-kou3.mp3]        404    ㄎㄡˇ   \n",
       "3       [sound:agj-pinyin-ri4.mp3]        124     ㄖ`   \n",
       "4      [sound:agj-pinyin-bai2.mp3]        358    ㄅㄞˊ   \n",
       "...                            ...        ...    ...   \n",
       "3178   [sound:agj-pinyin-bao2.mp3]       4895    ㄅㄠˊ   \n",
       "3179  [sound:agj-pinyin-kang1.mp3]       4916     ㄎㄤ   \n",
       "3180   [sound:agj-pinyin-zhi2.mp3]       5117     ㄓˊ   \n",
       "3181   [sound:agj-pinyin-luo2.mp3]       5168   ㄌㄨㄛˊ   \n",
       "3182  [sound:agj-pinyin-qiao1.mp3]       5446    ㄑㄧㄠ   \n",
       "\n",
       "               Vocabulary Zhuyin  \\\n",
       "0       ㄧ ㄉㄧㄢˇ  ㄧ ㄉㄧㄢˇㄦ˙  ㄧ ㄒㄧㄝ    \n",
       "1                            NaN   \n",
       "2     ㄕˊㄗ`ㄌㄨ`ㄎㄡˇ  ㄇㄣˊㄎㄡˇ  ㄌㄨ`ㄎㄡˇ   \n",
       "3        ㄖ`ㄅㄣˇ  ㄕㄥ ㄖ`  ㄒㄧㄥ ㄑㄧ ㄖ`   \n",
       "4         ㄅㄞˊㄙㄜ`  ㄅㄞˊㄅㄞˊ  ㄅㄞˊㄘㄞ`   \n",
       "...                          ...   \n",
       "3178                         NaN   \n",
       "3179                         NaN   \n",
       "3180                         NaN   \n",
       "3181                         NaN   \n",
       "3182                         NaN   \n",
       "\n",
       "                                           Stroke Order  \\\n",
       "0                                                   [㇐]   \n",
       "1                                             [㇒, ㇆, ㇔]   \n",
       "2                                             [㇑, ㇕, ㇐]   \n",
       "3                                          [㇑, ㇕, ㇐, ㇐]   \n",
       "4                                       [㇒, ㇑, ㇕, ㇐, ㇐]   \n",
       "...                                                 ...   \n",
       "3178            [㇐, ㇔, ㇖, ㇑, ㇐, ㇐, ㇐, ㇐, ㇒, ㇆, ㇕, ㇐, ㇟]   \n",
       "3179                                                      \n",
       "3180                           [㇒, ㇑, ㇐, ㇜, ㇔, ㇐, ㇑, ㇐]   \n",
       "3181  [㇐, ㇑, ㇐, ㇐, ㇑, ㇆, ㇔, ㇔, ㇔, ㇔, ㇑, ㇕, ㇐, ㇑, ㇐, ...   \n",
       "3182  [㇒, ㇔, ㇐, ㇐, ㇑, ㇔, ㇒, ㇀, ㇒, ㇐, ㇑, ㇒, ㇔, ㇔, ㇒, ...   \n",
       "\n",
       "                                              Etymology  \\\n",
       "0     Although 一 is sometimes said to represent an o...   \n",
       "1     A depiction of a slightly curved *spoon* or *l...   \n",
       "2     A depiction of a rounded cavity, and in partic...   \n",
       "3     A depiction of the *sun* | *day* (← appearance...   \n",
       "4     A depiction of an acorn, a large number of whi...   \n",
       "...                                                 ...   \n",
       "3178  包# envelop + 雨 rain/natural phenomena | *hail*...   \n",
       "3179  As per 康# (firm husk of a grain plant) + 米 ric...   \n",
       "3180                                                NaN   \n",
       "3181  累 here an abbreviated form# of 縲 bind + 馬 hors...   \n",
       "3182  As per 秋# (shrunken) + 金 metal | short-handled...   \n",
       "\n",
       "                                Gif  \n",
       "0     [image:images-large/4e00.gif]  \n",
       "1                               NaN  \n",
       "2     [image:images-large/53e3.gif]  \n",
       "3     [image:images-large/65e5.gif]  \n",
       "4     [image:images-large/767d.gif]  \n",
       "...                             ...  \n",
       "3178                            NaN  \n",
       "3179                            NaN  \n",
       "3180                            NaN  \n",
       "3181                            NaN  \n",
       "3182                            NaN  \n",
       "\n",
       "[3183 rows x 16 columns]"
      ]
     },
     "execution_count": 105,
     "metadata": {},
     "output_type": "execute_result"
    }
   ],
   "source": [
    "df_y"
   ]
  },
  {
   "cell_type": "code",
   "execution_count": 106,
   "metadata": {},
   "outputs": [
    {
     "data": {
      "text/plain": [
       "3183"
      ]
     },
     "execution_count": 106,
     "metadata": {},
     "output_type": "execute_result"
    }
   ],
   "source": [
    "len(df_y)"
   ]
  },
  {
   "cell_type": "code",
   "execution_count": 107,
   "metadata": {},
   "outputs": [],
   "source": [
    "df_y.to_csv('anki_final.csv', index=False)"
   ]
  }
 ],
 "metadata": {
  "kernelspec": {
   "display_name": "Python 3",
   "language": "python",
   "name": "python3"
  },
  "language_info": {
   "codemirror_mode": {
    "name": "ipython",
    "version": 3
   },
   "file_extension": ".py",
   "mimetype": "text/x-python",
   "name": "python",
   "nbconvert_exporter": "python",
   "pygments_lexer": "ipython3",
   "version": "3.6.9"
  }
 },
 "nbformat": 4,
 "nbformat_minor": 2
}
